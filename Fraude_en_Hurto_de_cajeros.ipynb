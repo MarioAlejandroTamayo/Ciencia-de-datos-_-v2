{
  "nbformat": 4,
  "nbformat_minor": 0,
  "metadata": {
    "colab": {
      "name": "Fraude en Hurto de cajeros.ipynb",
      "provenance": [],
      "authorship_tag": "ABX9TyOB01X9fdGVc3QrGxNTrJuD",
      "include_colab_link": true
    },
    "kernelspec": {
      "name": "python3",
      "display_name": "Python 3"
    },
    "language_info": {
      "name": "python"
    }
  },
  "cells": [
    {
      "cell_type": "markdown",
      "metadata": {
        "id": "view-in-github",
        "colab_type": "text"
      },
      "source": [
        "<a href=\"https://colab.research.google.com/github/MarioAlejandroTamayo/Ciencia-de-datos-_-v2/blob/main/Fraude_en_Hurto_de_cajeros.ipynb\" target=\"_parent\"><img src=\"https://colab.research.google.com/assets/colab-badge.svg\" alt=\"Open In Colab\"/></a>"
      ]
    },
    {
      "cell_type": "markdown",
      "metadata": {
        "id": "Jj_OSn3D8KIj"
      },
      "source": [
        "#Identificación de fraude en seguro de hurto en cajeros electrónicos\n",
        "\n",
        "La inseguridad en el país está atravesando por un momento crítico, afectando a todos los sectores de la economía, y el sector bancario no ajeno a esta situación. La inseguridad se refleja en distintos tipos de delitos como es el uso indebido de tarjetas de crédito (paseo millonario), fraudes por internet o Hurto en cajeros electrónicos como muchos otros, para combatir o subsanar estos crímenes (siniestros), una alternativa puede ser la adquisición de un seguro, el cual pretende indemnizar al asegurado ante una perdida (robo) y reembolsar de acuerdo a un valor fijo al asegurado, esto a cambio del pago de una prima justa a la aseguradora por asumir el riesgo del siniestro. Aunque la cultura de los seguros no está sembrada en nuestro país, se estima que cerca del 30% de hogares en Colombia han optado por un seguro voluntario*(Fuente: Diario La República), entendiéndose como seguro voluntario, el cual que no depende de una deuda adquirida por cliente y es de libre adquisición como un seguro de Autos Todo Riesgo (No SOAT), de Vida o de Hogar. \n",
        "\n",
        "Ahora el sector asegurador ofrece distintos tipos de seguros que pretenden ajustarse a la necesidad de cada cliente, ante posibles casos de sustracción existen los seguros de Fraude, en el cual una persona puede proteger su patrimonio que tiene en cuentas de ahorro o su poder adquisitivo en tarjetas de crédito, tomando un seguro mensual de fraude, o protegerse del hurto de dinero en un cajero electrónico. Estos seguros se pueden adquirir en el momento de hacer el retiro, y tienen una duración promedio de 2 horas sobre el hurto calificado de la cantidad retirada.  Este tipo de seguros son fácil y rápida accesibilidad, dado que se puede comprar cuando se está realizando el retiro en el cajero electrónico. Esto es una protección que puede o no adquirir el cliente de un Banco (seguro voluntario).\n",
        "\n",
        "Como es un seguro Voluntario, el cliente sabe con anterioridad o premeditadamente el alcance que puede tener dicho seguro, es por esto que existe una oportunidad de Fraude por parte del asegurado con la aseguradora, donde se puede reportar un siniestro con la denuncia respectiva ante la autoridad competente (Policía, Fiscalía) y demás soportes que requiere la aseguradora para reembolsar la cantidad “robada”, esto a gran escala se vuelve un problema para las aseguradoras, ya que si se reportan siniestros que no existen, se corre el riesgo en incurrir en pérdidas millonarias para la aseguradora, dado que la prima cobrada no basta para suplir las indemnizaciones pagadas.\n",
        "\n",
        "##Objetivos del negocio\n",
        "\n",
        "En las compañías de seguros, se encuentran áreas especializadas en modelar el riesgo que tienen sus asegurados ante un siniestro (no al fraude relacionado al siniestro), una de las metodologías más utilizadas se basa en la experiencia perse, y de la construcción de modelos deterministas y probabilísticos para estimar esta la realización de un evento (siniestro), bajo el supuesto de que la cartera actual (asegurados vigentes) tiene el mismo comportamiento histórico.\n",
        "\n",
        "Sin embargo, en términos del negocio se pretender tener un equilibrio entre el riesgo que asume la aseguradora con el tomador de la póliza, en función de un costo beneficio. ¿Hasta cuanto está dispuesto a pagar una persona por un seguro? En caso de siniestro, ¿Hasta cuanto se va a indemnizar? Estas preguntas se podrían solucionar parcialmente teniendo en cuenta un mayor conocimiento de la población asegurada y no únicamente la frecuencia técnica de la siniestralidad reportada, desde este enfoque se comenzará a realizar este trabajo orientado a un producto en particular de una compañía de seguros, como es el seguro de hurto en cajero electrónico. \n",
        "Para esto se plantea como objetivo:\n",
        "\n",
        "\n",
        "*   Construir una base de datos en función de variables naturales o artificiales que aporten un mayor conocimiento de la población que se asegura en la compañía\n",
        "*   Perfilamiento de clientes del banco que toman un seguro de Hurto cajero y puede incurrir en un siniestro un bajo posible fraude.\n",
        "\n",
        "*   Mejorar la siniestralidad segmentada identificando oportunidades de fraude.\n",
        "*   Generar al menos una mejora en el producto actual de Hurto en cajero de al menos un 3%, reflejado en la tarifa final del segmento asegurado (Prima Comercial diferencial).\n",
        "\n",
        "\n",
        "Basados en la experiencia y aprendizaje de la población objetivo se desea incrementar el valor cliente y prevenir tipos de fraude que ocurren en las compañías aseguradoras bajo una tarifa justa de acuerdo con el escenario que se presente.\n",
        "\n",
        "Para establecer los pasos que lleven al cumplimiento de los objetivos, se plantea el siguiente cronograma.\n",
        "\n",
        "\n",
        "\n"
      ]
    },
    {
      "cell_type": "code",
      "metadata": {
        "colab": {
          "base_uri": "https://localhost:8080/",
          "height": 230
        },
        "id": "IuZMN4YIjtMn",
        "outputId": "ee84fab6-29e6-423f-d63c-7a0f5ad0f6cc"
      },
      "source": [
        "import pandas as pd\n",
        "\n",
        "Phase = pd.Series(['Business understanding', 'Data understanding', 'Data preparation', 'Modeling','Evaluation','Deployment'])\n",
        "Time = pd.Series(['2 Weeks', '2 Weeks', '3 Weeks', '4 Weeks', '2 Weeks', '4 Weeks' ])\n",
        "Risk = pd.Series(['Partner', 'Data problems', 'Data problems', 'technology problems, Inability to find adequate model', 'Profitability', 'Implementation' ])\n",
        "\n",
        "pd.DataFrame({ 'Phase': Phase, 'Time': Time,'Risk': Risk })"
      ],
      "execution_count": 9,
      "outputs": [
        {
          "output_type": "execute_result",
          "data": {
            "text/html": [
              "<div>\n",
              "<style scoped>\n",
              "    .dataframe tbody tr th:only-of-type {\n",
              "        vertical-align: middle;\n",
              "    }\n",
              "\n",
              "    .dataframe tbody tr th {\n",
              "        vertical-align: top;\n",
              "    }\n",
              "\n",
              "    .dataframe thead th {\n",
              "        text-align: right;\n",
              "    }\n",
              "</style>\n",
              "<table border=\"1\" class=\"dataframe\">\n",
              "  <thead>\n",
              "    <tr style=\"text-align: right;\">\n",
              "      <th></th>\n",
              "      <th>Phase</th>\n",
              "      <th>Time</th>\n",
              "      <th>Risk</th>\n",
              "    </tr>\n",
              "  </thead>\n",
              "  <tbody>\n",
              "    <tr>\n",
              "      <th>0</th>\n",
              "      <td>Business understanding</td>\n",
              "      <td>2 Weeks</td>\n",
              "      <td>Partner</td>\n",
              "    </tr>\n",
              "    <tr>\n",
              "      <th>1</th>\n",
              "      <td>Data understanding</td>\n",
              "      <td>2 Weeks</td>\n",
              "      <td>Data problems</td>\n",
              "    </tr>\n",
              "    <tr>\n",
              "      <th>2</th>\n",
              "      <td>Data preparation</td>\n",
              "      <td>3 Weeks</td>\n",
              "      <td>Data problems</td>\n",
              "    </tr>\n",
              "    <tr>\n",
              "      <th>3</th>\n",
              "      <td>Modeling</td>\n",
              "      <td>4 Weeks</td>\n",
              "      <td>technology problems, Inability to find adequat...</td>\n",
              "    </tr>\n",
              "    <tr>\n",
              "      <th>4</th>\n",
              "      <td>Evaluation</td>\n",
              "      <td>2 Weeks</td>\n",
              "      <td>Profitability</td>\n",
              "    </tr>\n",
              "    <tr>\n",
              "      <th>5</th>\n",
              "      <td>Deployment</td>\n",
              "      <td>4 Weeks</td>\n",
              "      <td>Implementation</td>\n",
              "    </tr>\n",
              "  </tbody>\n",
              "</table>\n",
              "</div>"
            ],
            "text/plain": [
              "                    Phase  ...                                               Risk\n",
              "0  Business understanding  ...                                            Partner\n",
              "1      Data understanding  ...                                      Data problems\n",
              "2        Data preparation  ...                                      Data problems\n",
              "3                Modeling  ...  technology problems, Inability to find adequat...\n",
              "4              Evaluation  ...                                      Profitability\n",
              "5              Deployment  ...                                     Implementation\n",
              "\n",
              "[6 rows x 3 columns]"
            ]
          },
          "metadata": {
            "tags": []
          },
          "execution_count": 9
        }
      ]
    }
  ]
}