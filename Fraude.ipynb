{
  "nbformat": 4,
  "nbformat_minor": 0,
  "metadata": {
    "colab": {
      "name": "Fraude.ipynb",
      "provenance": [],
      "authorship_tag": "ABX9TyMKoKbEPrmLcEI6HASYfVua",
      "include_colab_link": true
    },
    "kernelspec": {
      "name": "python3",
      "display_name": "Python 3"
    },
    "language_info": {
      "name": "python"
    }
  },
  "cells": [
    {
      "cell_type": "markdown",
      "metadata": {
        "id": "view-in-github",
        "colab_type": "text"
      },
      "source": [
        "<a href=\"https://colab.research.google.com/github/MarioAlejandroTamayo/Ciencia-de-datos-_-v2/blob/main/Fraude.ipynb\" target=\"_parent\"><img src=\"https://colab.research.google.com/assets/colab-badge.svg\" alt=\"Open In Colab\"/></a>"
      ]
    },
    {
      "cell_type": "markdown",
      "metadata": {
        "id": "Jj_OSn3D8KIj"
      },
      "source": [
        " # Identificación de fraude en retiros de cajeros electrónico\n",
        "\n",
        "La inseguridad en el país está atravesando por un momento crítico, esto afecta a todos los sectores de la economía, y si nos centramos en el sector Bancario, esta inseguridad se refleja en distintos tipos de delitos como es el uso indebido de tarjetas de crédito (paseo millonario), fraude por internet o Hurto en cajeros electrónicos, para combatir o subsanar estos crímenes (siniestros), una alternativa puede ser la adquisición de un seguro, el cual pueda proteger al asegurado ante una perdida y reembolsar de acuerdo a un valor fijo asegurado a cambio del pago de una prima a una aseguradora por asumir el riesgo de que ocurra el siniestro. Aunque la cultura de los seguros no está sembrada en nuestro país, se estima que cerca del 30% de hogares han optado por un seguro voluntario*(Fuente: Diario La República), entendiéndose como seguro voluntario, el cual que no depende de una deuda adquirida por cliente y es de libre adquisición como un seguro de Autos Todo Riesgo, de Vida o de Hogar.\n",
        "\n",
        "Ahora el sector asegurador ofrece distintos tipos de seguros que pretenden ajustarse a cada necesidad del cliente, si nos concentramos en los seguros de Fraude especialmente, una persona puede proteger su patrimonio depositado en cuentas de ahorro o su poder adquisitivo de sus tarjetas de crédito, tomando un seguro mensual antifraude, o si desea proteger el retiro de dinero en cajero electrónico, dicho seguro se puede adquirir en el momento de hacer el retiro, este seguro cubre durante un lapso de dos horas el hurto calificado de la cantidad retirada en el momento  y se puede comprar cuando se esté realizando el retiro en el cajero electrónico. Esto es un beneficio que puede o no adquirir el cliente del Banco es una decisión propia (seguro Voluntario).\n",
        "\n",
        "Como es un seguro Voluntario, el cliente sabe con anterioridad o premeditadamente el alcance que puede tener dicho seguro, es por esto que existe una oportunidad de Fraude por parte del asegurado a la aseguradora, donde se puede reportar un siniestro con la denuncia respectiva a la autoridad competente (Policía, Fiscalía) y demás soportes que requiere la aseguradora para reembolsar la cantidad “robada”, esto a gran escala se vuelve un problema para las aseguradoras, ya que si se reportan siniestros que no existen, se corre el riesgo en incurrir en pérdidas millonarias para la aseguradora, dado que la prima cobrada no basta para suplir las indemnizaciones pagadas.\n",
        "\n",
        "Dado lo expuesto anteriormente se desea identificar, modelar y pronosticar oportunidades de Fraude, donde las aseguradoras puedan dar una solución conjunta con los bancos ante este flagelo. \n",
        "\n"
      ]
    }
  ]
}