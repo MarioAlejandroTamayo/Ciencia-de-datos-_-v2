{
  "nbformat": 4,
  "nbformat_minor": 0,
  "metadata": {
    "colab": {
      "name": "Fraude.ipynb",
      "provenance": [],
      "authorship_tag": "ABX9TyO6WGww4n1e46Tfkd3VtEhh",
      "include_colab_link": true
    },
    "kernelspec": {
      "name": "python3",
      "display_name": "Python 3"
    },
    "language_info": {
      "name": "python"
    }
  },
  "cells": [
    {
      "cell_type": "markdown",
      "metadata": {
        "id": "view-in-github",
        "colab_type": "text"
      },
      "source": [
        "<a href=\"https://colab.research.google.com/github/MarioAlejandroTamayo/Ciencia-de-datos-_-v2/blob/main/Fraude.ipynb\" target=\"_parent\"><img src=\"https://colab.research.google.com/assets/colab-badge.svg\" alt=\"Open In Colab\"/></a>"
      ]
    },
    {
      "cell_type": "markdown",
      "metadata": {
        "id": "Jj_OSn3D8KIj"
      },
      "source": [
        " # Identificación de fraude en retiros de cajeros electrónico\n",
        "\n",
        "La inseguridad en el país está atravesando por un momento crítico, esto afecta a todos los sectores de la economía, y si nos centramos en el sector Bancario, esta inseguridad se refleja en distintos tipos de delitos como es el uso indebido de tarjetas de crédito (paseo millonario), fraude por internet o Hurto en cajeros electrónicos, para combatir o subsanar estos crímenes (siniestros), una alternativa puede ser la adquisición de un seguro, el cual pueda proteger al asegurado ante una perdida y reembolsar de acuerdo a un valor fijo asegurado a cambio del pago de una prima a una aseguradora por asumir el riesgo de que ocurra el siniestro. Aunque la cultura de los seguros no está sembrada en nuestro país, se estima que cerca del 30% de hogares han optado por un seguro voluntario*(Fuente: Diario La República), entendiéndose como seguro voluntario, el cual que no depende de una deuda adquirida por cliente y es de libre adquisición como un seguro de Autos Todo Riesgo, de Vida o de Hogar.\n",
        "\n",
        "Ahora el sector asegurador ofrece distintos tipos de seguros que pretenden ajustarse a cada necesidad del cliente, si nos concentramos en los seguros de Fraude especialmente, una persona puede proteger su patrimonio depositado en cuentas de ahorro o su poder adquisitivo de sus tarjetas de crédito, tomando un seguro mensual antifraude, o si desea proteger el retiro de dinero en cajero electrónico, dicho seguro se puede adquirir en el momento de hacer el retiro, este seguro cubre durante un lapso de dos horas el hurto calificado de la cantidad retirada en el momento  y se puede comprar cuando se esté realizando el retiro en el cajero electrónico. Esto es un beneficio que puede o no adquirir el cliente del Banco es una decisión propia (seguro Voluntario).\n",
        "\n",
        "Como es un seguro Voluntario, el cliente sabe con anterioridad o premeditadamente el alcance que puede tener dicho seguro, es por esto que existe una oportunidad de Fraude por parte del asegurado a la aseguradora, donde se puede reportar un siniestro con la denuncia respectiva a la autoridad competente (Policía, Fiscalía) y demás soportes que requiere la aseguradora para reembolsar la cantidad “robada”, esto a gran escala se vuelve un problema para las aseguradoras, ya que si se reportan siniestros que no existen, se corre el riesgo en incurrir en pérdidas millonarias para la aseguradora, dado que la prima cobrada no basta para suplir las indemnizaciones pagadas.\n",
        "\n",
        "Dado lo expuesto anteriormente se desea identificar, modelar y pronosticar oportunidades de Fraude, donde las aseguradoras puedan dar una solución conjunta con los bancos ante este flagelo. \n",
        "\n"
      ]
    },
    {
      "cell_type": "markdown",
      "metadata": {
        "id": "X-as5nkocUCa"
      },
      "source": [
        "Tarea 1: Determinar la estructura organizacional\n",
        "\n",
        "Elaborar organigramas para ilustrar las divisiones corporativas, departamentos y grupos de proyectos. Asegúrese de incluir los nombres y responsabilidades de los gerentes.\n",
        "\n",
        "Tarea 2: describir el área del problema \n",
        "\n",
        "Identifique el área del problema, como marketing, atención al cliente o desarrollo de negocios. Describir el problema en términos generales. Aclarar los requisitos previos del proyecto. ¿Cuáles son las motivaciones del proyecto? ¿El negocio ya utiliza la minería de datos?\n",
        "\n",
        "Tarea 3: describir la solución actual \n",
        "Describa cualquier solución utilizada actualmente para abordar el problema de negocio. Describir las ventajas y desventajas de la solución actual. \n",
        "\n",
        "\n",
        "Definir objetivos de negocio Aquí es donde las cosas se vuelven específicas. Como resultado de su investigación y reuniones, usted debe construir un objetivo primario concreto acordado por los patrocinadores del proyecto\n",
        "\n",
        "\n",
        "Describa el problema que desea resolver utilizando la minería de datos.\n",
        "\n",
        "Especifique todas las preguntas de negocios con la mayor precisión posible.\n",
        "\n",
        "Determinar cualquier otro requisito de negocio (como no perder clientes existentes mientras aumenta las oportunidades de venta cruzada). \n",
        "\n",
        "Especifique los beneficios esperados en términos de negocio (como reducir el churn entre los clientes de alto valor en un 10%).\n",
        "\n",
        "Business Success Criteria\n",
        "\n",
        "\n"
      ]
    },
    {
      "cell_type": "markdown",
      "metadata": {
        "id": "opi5Pi0rb6A7"
      },
      "source": [
        "Objetivos del negocio\n",
        "\n",
        "En las empresas aseguradoras, se encuentran areas especializadas en modelar el riesgo que se siniestre el bien asegurado, una de los metodos mas utilizados en la literatura actuarial es asumir que cierto segmento de la poblacion  asegurada se comporta de forma similar con cierta estacionalidad, en base a este supuesto se define una siniestralidad esperada para los asegurados vigentes en funcion de la experiencia presentada con anterioridad.\n",
        "\n",
        "Sin embargo se desea mejorar o dar una mayor vision del negocio a partir de la recoleccion de la informacion que se captura de los asegurados, y a apartir de aqui valorar la siniestralidad presente en un producto particular de la empresa, como es el seguro de hurto en cajero electronico.\n",
        " "
      ]
    }
  ]
}